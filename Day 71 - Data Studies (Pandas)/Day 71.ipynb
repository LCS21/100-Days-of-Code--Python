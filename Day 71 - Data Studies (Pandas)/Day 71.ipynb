{
 "cells": [
  {
   "cell_type": "code",
   "execution_count": 2,
   "metadata": {
    "collapsed": true
   },
   "outputs": [
    {
     "data": {
      "text/plain": "     Undergraduate Major  Starting Median Salary  Mid-Career Median Salary  \\\n0             Accounting               46,000.00                 77,100.00   \n1  Aerospace Engineering               57,700.00                101,000.00   \n2            Agriculture               42,600.00                 71,900.00   \n3           Anthropology               36,800.00                 61,500.00   \n4           Architecture               41,600.00                 76,800.00   \n\n   Mid-Career 10th Percentile Salary  Mid-Career 90th Percentile Salary  \\\n0                          42,200.00                         152,000.00   \n1                          64,300.00                         161,000.00   \n2                          36,300.00                         150,000.00   \n3                          33,800.00                         138,000.00   \n4                          50,600.00                         136,000.00   \n\n      Group  \n0  Business  \n1      STEM  \n2  Business  \n3      HASS  \n4  Business  ",
      "text/html": "<div>\n<style scoped>\n    .dataframe tbody tr th:only-of-type {\n        vertical-align: middle;\n    }\n\n    .dataframe tbody tr th {\n        vertical-align: top;\n    }\n\n    .dataframe thead th {\n        text-align: right;\n    }\n</style>\n<table border=\"1\" class=\"dataframe\">\n  <thead>\n    <tr style=\"text-align: right;\">\n      <th></th>\n      <th>Undergraduate Major</th>\n      <th>Starting Median Salary</th>\n      <th>Mid-Career Median Salary</th>\n      <th>Mid-Career 10th Percentile Salary</th>\n      <th>Mid-Career 90th Percentile Salary</th>\n      <th>Group</th>\n    </tr>\n  </thead>\n  <tbody>\n    <tr>\n      <th>0</th>\n      <td>Accounting</td>\n      <td>46,000.00</td>\n      <td>77,100.00</td>\n      <td>42,200.00</td>\n      <td>152,000.00</td>\n      <td>Business</td>\n    </tr>\n    <tr>\n      <th>1</th>\n      <td>Aerospace Engineering</td>\n      <td>57,700.00</td>\n      <td>101,000.00</td>\n      <td>64,300.00</td>\n      <td>161,000.00</td>\n      <td>STEM</td>\n    </tr>\n    <tr>\n      <th>2</th>\n      <td>Agriculture</td>\n      <td>42,600.00</td>\n      <td>71,900.00</td>\n      <td>36,300.00</td>\n      <td>150,000.00</td>\n      <td>Business</td>\n    </tr>\n    <tr>\n      <th>3</th>\n      <td>Anthropology</td>\n      <td>36,800.00</td>\n      <td>61,500.00</td>\n      <td>33,800.00</td>\n      <td>138,000.00</td>\n      <td>HASS</td>\n    </tr>\n    <tr>\n      <th>4</th>\n      <td>Architecture</td>\n      <td>41,600.00</td>\n      <td>76,800.00</td>\n      <td>50,600.00</td>\n      <td>136,000.00</td>\n      <td>Business</td>\n    </tr>\n  </tbody>\n</table>\n</div>"
     },
     "execution_count": 2,
     "metadata": {},
     "output_type": "execute_result"
    }
   ],
   "source": [
    "import pandas as pd\n",
    "df = pd.read_csv('salaries_by_college_major.csv')\n",
    "pd.options.display.float_format = '{:,.2f}'.format\n",
    "\n",
    "clean = df.dropna()\n",
    "clean.head()"
   ]
  },
  {
   "cell_type": "code",
   "execution_count": 4,
   "outputs": [
    {
     "data": {
      "text/plain": "Undergraduate Major                  Education\nStarting Median Salary                 34900.0\nMid-Career Median Salary               52000.0\nspread                                     0.0\nMid-Career 10th Percentile Salary      29300.0\nMid-Career 90th Percentile Salary     102000.0\nGroup                                     HASS\nName: 18, dtype: object"
     },
     "execution_count": 4,
     "metadata": {},
     "output_type": "execute_result"
    }
   ],
   "source": [
    "clean[\"Mid-Career Median Salary\"].idxmin()\n",
    "clean.loc[18]"
   ],
   "metadata": {
    "collapsed": false,
    "pycharm": {
     "name": "#%%\n"
    }
   }
  },
  {
   "cell_type": "code",
   "execution_count": 28,
   "outputs": [
    {
     "data": {
      "text/plain": "   Undergraduate Major  Starting Median Salary  Mid-Career Median Salary  \\\n17           Economics                 50100.0                   98600.0   \n22             Finance                 47900.0                   88300.0   \n37                Math                 45400.0                   92400.0   \n36           Marketing                 40800.0                   79600.0   \n42          Philosophy                 39900.0                   81200.0   \n\n    Mid-Career 10th Percentile Salary  Mid-Career 90th Percentile Salary  \\\n17                            50600.0                           210000.0   \n22                            47200.0                           195000.0   \n37                            45200.0                           183000.0   \n36                            42100.0                           175000.0   \n42                            35500.0                           168000.0   \n\n      Spread     Group  \n17  159400.0  Business  \n22  147800.0  Business  \n37  137800.0      STEM  \n36  132900.0  Business  \n42  132500.0      HASS  ",
      "text/html": "<div>\n<style scoped>\n    .dataframe tbody tr th:only-of-type {\n        vertical-align: middle;\n    }\n\n    .dataframe tbody tr th {\n        vertical-align: top;\n    }\n\n    .dataframe thead th {\n        text-align: right;\n    }\n</style>\n<table border=\"1\" class=\"dataframe\">\n  <thead>\n    <tr style=\"text-align: right;\">\n      <th></th>\n      <th>Undergraduate Major</th>\n      <th>Starting Median Salary</th>\n      <th>Mid-Career Median Salary</th>\n      <th>Mid-Career 10th Percentile Salary</th>\n      <th>Mid-Career 90th Percentile Salary</th>\n      <th>Spread</th>\n      <th>Group</th>\n    </tr>\n  </thead>\n  <tbody>\n    <tr>\n      <th>17</th>\n      <td>Economics</td>\n      <td>50100.0</td>\n      <td>98600.0</td>\n      <td>50600.0</td>\n      <td>210000.0</td>\n      <td>159400.0</td>\n      <td>Business</td>\n    </tr>\n    <tr>\n      <th>22</th>\n      <td>Finance</td>\n      <td>47900.0</td>\n      <td>88300.0</td>\n      <td>47200.0</td>\n      <td>195000.0</td>\n      <td>147800.0</td>\n      <td>Business</td>\n    </tr>\n    <tr>\n      <th>37</th>\n      <td>Math</td>\n      <td>45400.0</td>\n      <td>92400.0</td>\n      <td>45200.0</td>\n      <td>183000.0</td>\n      <td>137800.0</td>\n      <td>STEM</td>\n    </tr>\n    <tr>\n      <th>36</th>\n      <td>Marketing</td>\n      <td>40800.0</td>\n      <td>79600.0</td>\n      <td>42100.0</td>\n      <td>175000.0</td>\n      <td>132900.0</td>\n      <td>Business</td>\n    </tr>\n    <tr>\n      <th>42</th>\n      <td>Philosophy</td>\n      <td>39900.0</td>\n      <td>81200.0</td>\n      <td>35500.0</td>\n      <td>168000.0</td>\n      <td>132500.0</td>\n      <td>HASS</td>\n    </tr>\n  </tbody>\n</table>\n</div>"
     },
     "execution_count": 28,
     "metadata": {},
     "output_type": "execute_result"
    }
   ],
   "source": [
    "spread = clean[\"Mid-Career 90th Percentile Salary\"] - clean['Mid-Career 10th Percentile Salary']\n",
    "clean.insert(5, \"Spread\", spread)\n",
    "\n",
    "clean.head()"
   ],
   "metadata": {
    "collapsed": false,
    "pycharm": {
     "name": "#%%\n"
    }
   }
  },
  {
   "cell_type": "code",
   "execution_count": 33,
   "outputs": [
    {
     "data": {
      "text/plain": "           Undergraduate Major  Starting Median Salary  \\\n40                     Nursing                 54200.0   \n43         Physician Assistant                 74300.0   \n41                   Nutrition                 39900.0   \n49                     Spanish                 34000.0   \n27  Health Care Administration                 38800.0   \n\n    Mid-Career Median Salary  Mid-Career 10th Percentile Salary  \\\n40                   67000.0                            47600.0   \n43                   91700.0                            66400.0   \n41                   55300.0                            33900.0   \n49                   53100.0                            31000.0   \n27                   60600.0                            34600.0   \n\n    Mid-Career 90th Percentile Salary   Spread     Group  \n40                            98300.0  50700.0  Business  \n43                           124000.0  57600.0      STEM  \n41                            99200.0  65300.0      HASS  \n49                            96400.0  65400.0      HASS  \n27                           101000.0  66400.0  Business  ",
      "text/html": "<div>\n<style scoped>\n    .dataframe tbody tr th:only-of-type {\n        vertical-align: middle;\n    }\n\n    .dataframe tbody tr th {\n        vertical-align: top;\n    }\n\n    .dataframe thead th {\n        text-align: right;\n    }\n</style>\n<table border=\"1\" class=\"dataframe\">\n  <thead>\n    <tr style=\"text-align: right;\">\n      <th></th>\n      <th>Undergraduate Major</th>\n      <th>Starting Median Salary</th>\n      <th>Mid-Career Median Salary</th>\n      <th>Mid-Career 10th Percentile Salary</th>\n      <th>Mid-Career 90th Percentile Salary</th>\n      <th>Spread</th>\n      <th>Group</th>\n    </tr>\n  </thead>\n  <tbody>\n    <tr>\n      <th>40</th>\n      <td>Nursing</td>\n      <td>54200.0</td>\n      <td>67000.0</td>\n      <td>47600.0</td>\n      <td>98300.0</td>\n      <td>50700.0</td>\n      <td>Business</td>\n    </tr>\n    <tr>\n      <th>43</th>\n      <td>Physician Assistant</td>\n      <td>74300.0</td>\n      <td>91700.0</td>\n      <td>66400.0</td>\n      <td>124000.0</td>\n      <td>57600.0</td>\n      <td>STEM</td>\n    </tr>\n    <tr>\n      <th>41</th>\n      <td>Nutrition</td>\n      <td>39900.0</td>\n      <td>55300.0</td>\n      <td>33900.0</td>\n      <td>99200.0</td>\n      <td>65300.0</td>\n      <td>HASS</td>\n    </tr>\n    <tr>\n      <th>49</th>\n      <td>Spanish</td>\n      <td>34000.0</td>\n      <td>53100.0</td>\n      <td>31000.0</td>\n      <td>96400.0</td>\n      <td>65400.0</td>\n      <td>HASS</td>\n    </tr>\n    <tr>\n      <th>27</th>\n      <td>Health Care Administration</td>\n      <td>38800.0</td>\n      <td>60600.0</td>\n      <td>34600.0</td>\n      <td>101000.0</td>\n      <td>66400.0</td>\n      <td>Business</td>\n    </tr>\n  </tbody>\n</table>\n</div>"
     },
     "execution_count": 33,
     "metadata": {},
     "output_type": "execute_result"
    }
   ],
   "source": [
    "high_risk = clean.sort_values(by=\"Spread\", ascending=False)\n",
    "low_risk = clean.sort_values(by=\"Spread\", ascending=True)\n",
    "\n",
    "low_risk.head()"
   ],
   "metadata": {
    "collapsed": false,
    "pycharm": {
     "name": "#%%\n"
    }
   }
  },
  {
   "cell_type": "code",
   "execution_count": 44,
   "outputs": [
    {
     "data": {
      "text/plain": "     Undergraduate Major  Starting Median Salary  Mid-Career Median Salary  \\\n17             Economics               50,100.00                 98,600.00   \n22               Finance               47,900.00                 88,300.00   \n8   Chemical Engineering               63,200.00                107,000.00   \n37                  Math               45,400.00                 92,400.00   \n44               Physics               50,300.00                 97,300.00   \n\n    Mid-Career 10th Percentile Salary  Mid-Career 90th Percentile Salary  \\\n17                          50,600.00                         210,000.00   \n22                          47,200.00                         195,000.00   \n8                           71,900.00                         194,000.00   \n37                          45,200.00                         183,000.00   \n44                          56,000.00                         178,000.00   \n\n       Group  \n17  Business  \n22  Business  \n8       STEM  \n37      STEM  \n44      STEM  ",
      "text/html": "<div>\n<style scoped>\n    .dataframe tbody tr th:only-of-type {\n        vertical-align: middle;\n    }\n\n    .dataframe tbody tr th {\n        vertical-align: top;\n    }\n\n    .dataframe thead th {\n        text-align: right;\n    }\n</style>\n<table border=\"1\" class=\"dataframe\">\n  <thead>\n    <tr style=\"text-align: right;\">\n      <th></th>\n      <th>Undergraduate Major</th>\n      <th>Starting Median Salary</th>\n      <th>Mid-Career Median Salary</th>\n      <th>Mid-Career 10th Percentile Salary</th>\n      <th>Mid-Career 90th Percentile Salary</th>\n      <th>Group</th>\n    </tr>\n  </thead>\n  <tbody>\n    <tr>\n      <th>17</th>\n      <td>Economics</td>\n      <td>50,100.00</td>\n      <td>98,600.00</td>\n      <td>50,600.00</td>\n      <td>210,000.00</td>\n      <td>Business</td>\n    </tr>\n    <tr>\n      <th>22</th>\n      <td>Finance</td>\n      <td>47,900.00</td>\n      <td>88,300.00</td>\n      <td>47,200.00</td>\n      <td>195,000.00</td>\n      <td>Business</td>\n    </tr>\n    <tr>\n      <th>8</th>\n      <td>Chemical Engineering</td>\n      <td>63,200.00</td>\n      <td>107,000.00</td>\n      <td>71,900.00</td>\n      <td>194,000.00</td>\n      <td>STEM</td>\n    </tr>\n    <tr>\n      <th>37</th>\n      <td>Math</td>\n      <td>45,400.00</td>\n      <td>92,400.00</td>\n      <td>45,200.00</td>\n      <td>183,000.00</td>\n      <td>STEM</td>\n    </tr>\n    <tr>\n      <th>44</th>\n      <td>Physics</td>\n      <td>50,300.00</td>\n      <td>97,300.00</td>\n      <td>56,000.00</td>\n      <td>178,000.00</td>\n      <td>STEM</td>\n    </tr>\n  </tbody>\n</table>\n</div>"
     },
     "execution_count": 44,
     "metadata": {},
     "output_type": "execute_result"
    }
   ],
   "source": [
    "clean.sort_values(by=\"Mid-Career 90th Percentile Salary\", ascending=False).head()"
   ],
   "metadata": {
    "collapsed": false,
    "pycharm": {
     "name": "#%%\n"
    }
   }
  },
  {
   "cell_type": "code",
   "execution_count": 43,
   "outputs": [
    {
     "data": {
      "text/plain": "          Starting Median Salary  Mid-Career Median Salary  \\\nGroup                                                        \nBusiness               44,633.33                 75,083.33   \nHASS                   37,186.36                 62,968.18   \nSTEM                   53,862.50                 90,812.50   \n\n          Mid-Career 10th Percentile Salary  Mid-Career 90th Percentile Salary  \nGroup                                                                           \nBusiness                          43,566.67                         147,525.00  \nHASS                              34,145.45                         129,363.64  \nSTEM                              56,025.00                         157,625.00  ",
      "text/html": "<div>\n<style scoped>\n    .dataframe tbody tr th:only-of-type {\n        vertical-align: middle;\n    }\n\n    .dataframe tbody tr th {\n        vertical-align: top;\n    }\n\n    .dataframe thead th {\n        text-align: right;\n    }\n</style>\n<table border=\"1\" class=\"dataframe\">\n  <thead>\n    <tr style=\"text-align: right;\">\n      <th></th>\n      <th>Starting Median Salary</th>\n      <th>Mid-Career Median Salary</th>\n      <th>Mid-Career 10th Percentile Salary</th>\n      <th>Mid-Career 90th Percentile Salary</th>\n    </tr>\n    <tr>\n      <th>Group</th>\n      <th></th>\n      <th></th>\n      <th></th>\n      <th></th>\n    </tr>\n  </thead>\n  <tbody>\n    <tr>\n      <th>Business</th>\n      <td>44,633.33</td>\n      <td>75,083.33</td>\n      <td>43,566.67</td>\n      <td>147,525.00</td>\n    </tr>\n    <tr>\n      <th>HASS</th>\n      <td>37,186.36</td>\n      <td>62,968.18</td>\n      <td>34,145.45</td>\n      <td>129,363.64</td>\n    </tr>\n    <tr>\n      <th>STEM</th>\n      <td>53,862.50</td>\n      <td>90,812.50</td>\n      <td>56,025.00</td>\n      <td>157,625.00</td>\n    </tr>\n  </tbody>\n</table>\n</div>"
     },
     "execution_count": 43,
     "metadata": {},
     "output_type": "execute_result"
    }
   ],
   "source": [
    "# clean.groupby(\"Group\").count()\n",
    "clean.groupby(\"Group\").mean()\n"
   ],
   "metadata": {
    "collapsed": false,
    "pycharm": {
     "name": "#%%\n"
    }
   }
  }
 ],
 "metadata": {
  "kernelspec": {
   "display_name": "Python 3",
   "language": "python",
   "name": "python3"
  },
  "language_info": {
   "codemirror_mode": {
    "name": "ipython",
    "version": 2
   },
   "file_extension": ".py",
   "mimetype": "text/x-python",
   "name": "python",
   "nbconvert_exporter": "python",
   "pygments_lexer": "ipython2",
   "version": "2.7.6"
  }
 },
 "nbformat": 4,
 "nbformat_minor": 0
}